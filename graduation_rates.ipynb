{
  "nbformat": 4,
  "nbformat_minor": 0,
  "metadata": {
    "colab": {
      "provenance": [],
      "authorship_tag": "ABX9TyOrUmiLaIb0fLZXUT0qo9mO",
      "include_colab_link": true
    },
    "kernelspec": {
      "name": "python3",
      "display_name": "Python 3"
    },
    "language_info": {
      "name": "python"
    },
    "widgets": {
      "application/vnd.jupyter.widget-state+json": {
        "669a68f5bd834407a660d0d101e0fb87": {
          "model_module": "@jupyter-widgets/controls",
          "model_name": "VBoxModel",
          "model_module_version": "1.5.0",
          "state": {
            "_dom_classes": [
              "widget-interact"
            ],
            "_model_module": "@jupyter-widgets/controls",
            "_model_module_version": "1.5.0",
            "_model_name": "VBoxModel",
            "_view_count": null,
            "_view_module": "@jupyter-widgets/controls",
            "_view_module_version": "1.5.0",
            "_view_name": "VBoxView",
            "box_style": "",
            "children": [
              "IPY_MODEL_60628a51ae2c4b779ccae80c9968ca3e",
              "IPY_MODEL_327e5746032d433fbd4e159e94ee3852",
              "IPY_MODEL_e7a1ff1fc1d6423ea4eb8ac9f0c38cf5",
              "IPY_MODEL_134e4bf8b8a3422b82c51de3b72533e0"
            ],
            "layout": "IPY_MODEL_f4442b29b8b3470381558a5399da06b5"
          }
        },
        "60628a51ae2c4b779ccae80c9968ca3e": {
          "model_module": "@jupyter-widgets/controls",
          "model_name": "DropdownModel",
          "model_module_version": "1.5.0",
          "state": {
            "_dom_classes": [],
            "_model_module": "@jupyter-widgets/controls",
            "_model_module_version": "1.5.0",
            "_model_name": "DropdownModel",
            "_options_labels": [
              "Alabama",
              "Alaska",
              "Arizona",
              "Arkansas",
              "California",
              "Colorado",
              "Connecticut",
              "Delaware",
              "District of Columbia",
              "Florida",
              "Georgia",
              "Hawaii",
              "Idaho",
              "Illinois",
              "Indiana",
              "Iowa",
              "Kansas",
              "Kentucky",
              "Louisiana",
              "Maine",
              "Maryland",
              "Massachusetts",
              "Michigan",
              "Minnesota",
              "Mississippi",
              "Missouri",
              "Montana",
              "Nebraska",
              "Nevada",
              "New Hampshire",
              "New Jersey",
              "New Mexico",
              "New York",
              "North Carolina",
              "North Dakota",
              "Ohio",
              "Oklahoma",
              "Oregon",
              "Pennsylvania",
              "Rhode Island",
              "South Carolina",
              "South Dakota",
              "Tennessee",
              "Texas",
              "Utah",
              "Vermont",
              "Virginia",
              "Washington",
              "West Virginia",
              "Wisconsin",
              "Wyoming",
              "United States"
            ],
            "_view_count": null,
            "_view_module": "@jupyter-widgets/controls",
            "_view_module_version": "1.5.0",
            "_view_name": "DropdownView",
            "description": "state",
            "description_tooltip": null,
            "disabled": false,
            "index": 13,
            "layout": "IPY_MODEL_bc6c0a4f5464485986a9518cedee597e",
            "style": "IPY_MODEL_ecc0119203ad410e91ab25abaadbd14a"
          }
        },
        "327e5746032d433fbd4e159e94ee3852": {
          "model_module": "@jupyter-widgets/controls",
          "model_name": "DropdownModel",
          "model_module_version": "1.5.0",
          "state": {
            "_dom_classes": [],
            "_model_module": "@jupyter-widgets/controls",
            "_model_module_version": "1.5.0",
            "_model_name": "DropdownModel",
            "_options_labels": [
              "4-year",
              "2-year"
            ],
            "_view_count": null,
            "_view_module": "@jupyter-widgets/controls",
            "_view_module_version": "1.5.0",
            "_view_name": "DropdownView",
            "description": "level",
            "description_tooltip": null,
            "disabled": false,
            "index": 1,
            "layout": "IPY_MODEL_7b2d1ac0af9c408d978f9fef2916e912",
            "style": "IPY_MODEL_e9edf44dcec846d9bcd073e943d386b9"
          }
        },
        "e7a1ff1fc1d6423ea4eb8ac9f0c38cf5": {
          "model_module": "@jupyter-widgets/controls",
          "model_name": "DropdownModel",
          "model_module_version": "1.5.0",
          "state": {
            "_dom_classes": [],
            "_model_module": "@jupyter-widgets/controls",
            "_model_module_version": "1.5.0",
            "_model_name": "DropdownModel",
            "_options_labels": [
              "Non-binary",
              "Female",
              "Male"
            ],
            "_view_count": null,
            "_view_module": "@jupyter-widgets/controls",
            "_view_module_version": "1.5.0",
            "_view_name": "DropdownView",
            "description": "gender",
            "description_tooltip": null,
            "disabled": false,
            "index": 2,
            "layout": "IPY_MODEL_9fa6c4709ff440a3a5ab06aefe0ec0c5",
            "style": "IPY_MODEL_33b5a3a5c7a240e8bb2bb1b5732fb0d0"
          }
        },
        "134e4bf8b8a3422b82c51de3b72533e0": {
          "model_module": "@jupyter-widgets/output",
          "model_name": "OutputModel",
          "model_module_version": "1.0.0",
          "state": {
            "_dom_classes": [],
            "_model_module": "@jupyter-widgets/output",
            "_model_module_version": "1.0.0",
            "_model_name": "OutputModel",
            "_view_count": null,
            "_view_module": "@jupyter-widgets/output",
            "_view_module_version": "1.0.0",
            "_view_name": "OutputView",
            "layout": "IPY_MODEL_1da78e6ee83e41689b71d3f10f46c173",
            "msg_id": "",
            "outputs": [
              {
                "output_type": "display_data",
                "data": {
                  "text/plain": "<Figure size 640x480 with 1 Axes>",
                  "image/png": "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\n"
                },
                "metadata": {}
              }
            ]
          }
        },
        "f4442b29b8b3470381558a5399da06b5": {
          "model_module": "@jupyter-widgets/base",
          "model_name": "LayoutModel",
          "model_module_version": "1.2.0",
          "state": {
            "_model_module": "@jupyter-widgets/base",
            "_model_module_version": "1.2.0",
            "_model_name": "LayoutModel",
            "_view_count": null,
            "_view_module": "@jupyter-widgets/base",
            "_view_module_version": "1.2.0",
            "_view_name": "LayoutView",
            "align_content": null,
            "align_items": null,
            "align_self": null,
            "border": null,
            "bottom": null,
            "display": null,
            "flex": null,
            "flex_flow": null,
            "grid_area": null,
            "grid_auto_columns": null,
            "grid_auto_flow": null,
            "grid_auto_rows": null,
            "grid_column": null,
            "grid_gap": null,
            "grid_row": null,
            "grid_template_areas": null,
            "grid_template_columns": null,
            "grid_template_rows": null,
            "height": null,
            "justify_content": null,
            "justify_items": null,
            "left": null,
            "margin": null,
            "max_height": null,
            "max_width": null,
            "min_height": null,
            "min_width": null,
            "object_fit": null,
            "object_position": null,
            "order": null,
            "overflow": null,
            "overflow_x": null,
            "overflow_y": null,
            "padding": null,
            "right": null,
            "top": null,
            "visibility": null,
            "width": null
          }
        },
        "bc6c0a4f5464485986a9518cedee597e": {
          "model_module": "@jupyter-widgets/base",
          "model_name": "LayoutModel",
          "model_module_version": "1.2.0",
          "state": {
            "_model_module": "@jupyter-widgets/base",
            "_model_module_version": "1.2.0",
            "_model_name": "LayoutModel",
            "_view_count": null,
            "_view_module": "@jupyter-widgets/base",
            "_view_module_version": "1.2.0",
            "_view_name": "LayoutView",
            "align_content": null,
            "align_items": null,
            "align_self": null,
            "border": null,
            "bottom": null,
            "display": null,
            "flex": null,
            "flex_flow": null,
            "grid_area": null,
            "grid_auto_columns": null,
            "grid_auto_flow": null,
            "grid_auto_rows": null,
            "grid_column": null,
            "grid_gap": null,
            "grid_row": null,
            "grid_template_areas": null,
            "grid_template_columns": null,
            "grid_template_rows": null,
            "height": null,
            "justify_content": null,
            "justify_items": null,
            "left": null,
            "margin": null,
            "max_height": null,
            "max_width": null,
            "min_height": null,
            "min_width": null,
            "object_fit": null,
            "object_position": null,
            "order": null,
            "overflow": null,
            "overflow_x": null,
            "overflow_y": null,
            "padding": null,
            "right": null,
            "top": null,
            "visibility": null,
            "width": null
          }
        },
        "ecc0119203ad410e91ab25abaadbd14a": {
          "model_module": "@jupyter-widgets/controls",
          "model_name": "DescriptionStyleModel",
          "model_module_version": "1.5.0",
          "state": {
            "_model_module": "@jupyter-widgets/controls",
            "_model_module_version": "1.5.0",
            "_model_name": "DescriptionStyleModel",
            "_view_count": null,
            "_view_module": "@jupyter-widgets/base",
            "_view_module_version": "1.2.0",
            "_view_name": "StyleView",
            "description_width": ""
          }
        },
        "7b2d1ac0af9c408d978f9fef2916e912": {
          "model_module": "@jupyter-widgets/base",
          "model_name": "LayoutModel",
          "model_module_version": "1.2.0",
          "state": {
            "_model_module": "@jupyter-widgets/base",
            "_model_module_version": "1.2.0",
            "_model_name": "LayoutModel",
            "_view_count": null,
            "_view_module": "@jupyter-widgets/base",
            "_view_module_version": "1.2.0",
            "_view_name": "LayoutView",
            "align_content": null,
            "align_items": null,
            "align_self": null,
            "border": null,
            "bottom": null,
            "display": null,
            "flex": null,
            "flex_flow": null,
            "grid_area": null,
            "grid_auto_columns": null,
            "grid_auto_flow": null,
            "grid_auto_rows": null,
            "grid_column": null,
            "grid_gap": null,
            "grid_row": null,
            "grid_template_areas": null,
            "grid_template_columns": null,
            "grid_template_rows": null,
            "height": null,
            "justify_content": null,
            "justify_items": null,
            "left": null,
            "margin": null,
            "max_height": null,
            "max_width": null,
            "min_height": null,
            "min_width": null,
            "object_fit": null,
            "object_position": null,
            "order": null,
            "overflow": null,
            "overflow_x": null,
            "overflow_y": null,
            "padding": null,
            "right": null,
            "top": null,
            "visibility": null,
            "width": null
          }
        },
        "e9edf44dcec846d9bcd073e943d386b9": {
          "model_module": "@jupyter-widgets/controls",
          "model_name": "DescriptionStyleModel",
          "model_module_version": "1.5.0",
          "state": {
            "_model_module": "@jupyter-widgets/controls",
            "_model_module_version": "1.5.0",
            "_model_name": "DescriptionStyleModel",
            "_view_count": null,
            "_view_module": "@jupyter-widgets/base",
            "_view_module_version": "1.2.0",
            "_view_name": "StyleView",
            "description_width": ""
          }
        },
        "9fa6c4709ff440a3a5ab06aefe0ec0c5": {
          "model_module": "@jupyter-widgets/base",
          "model_name": "LayoutModel",
          "model_module_version": "1.2.0",
          "state": {
            "_model_module": "@jupyter-widgets/base",
            "_model_module_version": "1.2.0",
            "_model_name": "LayoutModel",
            "_view_count": null,
            "_view_module": "@jupyter-widgets/base",
            "_view_module_version": "1.2.0",
            "_view_name": "LayoutView",
            "align_content": null,
            "align_items": null,
            "align_self": null,
            "border": null,
            "bottom": null,
            "display": null,
            "flex": null,
            "flex_flow": null,
            "grid_area": null,
            "grid_auto_columns": null,
            "grid_auto_flow": null,
            "grid_auto_rows": null,
            "grid_column": null,
            "grid_gap": null,
            "grid_row": null,
            "grid_template_areas": null,
            "grid_template_columns": null,
            "grid_template_rows": null,
            "height": null,
            "justify_content": null,
            "justify_items": null,
            "left": null,
            "margin": null,
            "max_height": null,
            "max_width": null,
            "min_height": null,
            "min_width": null,
            "object_fit": null,
            "object_position": null,
            "order": null,
            "overflow": null,
            "overflow_x": null,
            "overflow_y": null,
            "padding": null,
            "right": null,
            "top": null,
            "visibility": null,
            "width": null
          }
        },
        "33b5a3a5c7a240e8bb2bb1b5732fb0d0": {
          "model_module": "@jupyter-widgets/controls",
          "model_name": "DescriptionStyleModel",
          "model_module_version": "1.5.0",
          "state": {
            "_model_module": "@jupyter-widgets/controls",
            "_model_module_version": "1.5.0",
            "_model_name": "DescriptionStyleModel",
            "_view_count": null,
            "_view_module": "@jupyter-widgets/base",
            "_view_module_version": "1.2.0",
            "_view_name": "StyleView",
            "description_width": ""
          }
        },
        "1da78e6ee83e41689b71d3f10f46c173": {
          "model_module": "@jupyter-widgets/base",
          "model_name": "LayoutModel",
          "model_module_version": "1.2.0",
          "state": {
            "_model_module": "@jupyter-widgets/base",
            "_model_module_version": "1.2.0",
            "_model_name": "LayoutModel",
            "_view_count": null,
            "_view_module": "@jupyter-widgets/base",
            "_view_module_version": "1.2.0",
            "_view_name": "LayoutView",
            "align_content": null,
            "align_items": null,
            "align_self": null,
            "border": null,
            "bottom": null,
            "display": null,
            "flex": null,
            "flex_flow": null,
            "grid_area": null,
            "grid_auto_columns": null,
            "grid_auto_flow": null,
            "grid_auto_rows": null,
            "grid_column": null,
            "grid_gap": null,
            "grid_row": null,
            "grid_template_areas": null,
            "grid_template_columns": null,
            "grid_template_rows": null,
            "height": null,
            "justify_content": null,
            "justify_items": null,
            "left": null,
            "margin": null,
            "max_height": null,
            "max_width": null,
            "min_height": null,
            "min_width": null,
            "object_fit": null,
            "object_position": null,
            "order": null,
            "overflow": null,
            "overflow_x": null,
            "overflow_y": null,
            "padding": null,
            "right": null,
            "top": null,
            "visibility": null,
            "width": null
          }
        }
      }
    }
  },
  "cells": [
    {
      "cell_type": "markdown",
      "metadata": {
        "id": "view-in-github",
        "colab_type": "text"
      },
      "source": [
        "<a href=\"https://colab.research.google.com/github/nicholaskiranmerchant/jupyter-data-visualizations/blob/main/graduation_rates.ipynb\" target=\"_parent\"><img src=\"https://colab.research.google.com/assets/colab-badge.svg\" alt=\"Open In Colab\"/></a>"
      ]
    },
    {
      "cell_type": "code",
      "execution_count": null,
      "metadata": {
        "colab": {
          "base_uri": "https://localhost:8080/",
          "height": 36
        },
        "id": "45XjwWBrV3gJ",
        "outputId": "7c636dd6-cbed-46ff-e613-4ac657089b18"
      },
      "outputs": [
        {
          "output_type": "execute_result",
          "data": {
            "text/plain": [
              "'kiranmerchant'"
            ],
            "application/vnd.google.colaboratory.intrinsic+json": {
              "type": "string"
            }
          },
          "metadata": {},
          "execution_count": 11
        }
      ],
      "source": [
        "# from ipywidgets import interact\n",
        "import os\n",
        "\n",
        "os.environ['KAGGLE_USERNAME'] = 'kiranmerchant'\n",
        "os.environ['KAGGLE_KEY'] = '62ef204b1345880d2bb6eaf7247e91c5'"
      ]
    },
    {
      "cell_type": "code",
      "source": [
        "import kaggle\n",
        "import zipfile\n",
        "\n",
        "dataset_owner = 'thedevastator'\n",
        "dataset_name = 'college-completion-and-efficiency-measures-for-u'\n",
        "kaggle.api.dataset_download_files(f'{dataset_owner}/{dataset_name}')\n",
        "\n",
        "zipfile.ZipFile(f'{dataset_name}.zip', 'r').extractall()\n",
        "\n",
        "os.listdir()"
      ],
      "metadata": {
        "colab": {
          "base_uri": "https://localhost:8080/"
        },
        "id": "q6A9DPgTbtWj",
        "outputId": "a4e7255b-458f-46b8-9a29-f5776c03bdd6"
      },
      "execution_count": null,
      "outputs": [
        {
          "output_type": "execute_result",
          "data": {
            "text/plain": [
              "['.config',\n",
              " 'cc_state_sector_details.csv',\n",
              " 'README.txt',\n",
              " 'cc_state_sector_grads.csv',\n",
              " 'college-completion-and-efficiency-measures-for-u.zip',\n",
              " 'cc_institution_grads.csv',\n",
              " 'cc_institution_details.csv',\n",
              " 'boost-student-success-with-college-completion-da.zip',\n",
              " 'sample_data']"
            ]
          },
          "metadata": {},
          "execution_count": 68
        }
      ]
    },
    {
      "cell_type": "code",
      "source": [
        "import pandas as pd\n",
        "\n",
        "df = pd.read_csv('cc_state_sector_grads.csv')\n",
        "\n",
        "race = {\n",
        "    'A': 'Asian',\n",
        "    'Ai': 'Indigenous',\n",
        "    'B': 'Black',\n",
        "    'H': 'Latino',\n",
        "    'W': 'White',\n",
        "    'X': 'Pacific'\n",
        "}\n",
        "df['race'] = df['race'].map(race)\n",
        "\n",
        "gender = {\n",
        "    'B': 'Non-binary',\n",
        "    'M': 'Male',\n",
        "    'F': 'Female'\n",
        "}\n",
        "df['gender'] = df['gender'].map(gender)"
      ],
      "metadata": {
        "id": "ccyYdBTNaXKR"
      },
      "execution_count": null,
      "outputs": []
    },
    {
      "cell_type": "code",
      "source": [
        "import matplotlib.pyplot as plt\n",
        "from ipywidgets import interact\n",
        "\n",
        "def plot_chart(state, level, gender):\n",
        "  df2 = (df\n",
        "    .loc[df['level'] == level]\n",
        "    .loc[df['state'] == state]\n",
        "    .loc[df['gender'] == gender]\n",
        "    .loc[:, ['race', 'grad_150_rate']]\n",
        "\n",
        "    .groupby('race')\n",
        "    .agg('mean')\n",
        "    .sort_values('grad_150_rate')\n",
        "  )\n",
        "\n",
        "  plt.bar(df2.index, df2['grad_150_rate'], color=['blue', 'yellow', 'green', 'red', 'purple', 'orange'])\n",
        "\n",
        "  plt.ylabel('Graduation rate after 6 years')\n",
        "  plt.ylim((0, 100))\n",
        "\n",
        "  plt.title(f'{state} graduation rate from {level} colleges, {gender}')\n",
        "\n",
        "  plt.show()\n",
        "\n",
        "interact(plot_chart, state=df['state'].unique(), level=df['level'].unique(), gender=df['gender'].unique())\n",
        "\"\""
      ],
      "metadata": {
        "colab": {
          "base_uri": "https://localhost:8080/",
          "height": 567,
          "referenced_widgets": [
            "669a68f5bd834407a660d0d101e0fb87",
            "60628a51ae2c4b779ccae80c9968ca3e",
            "327e5746032d433fbd4e159e94ee3852",
            "e7a1ff1fc1d6423ea4eb8ac9f0c38cf5",
            "134e4bf8b8a3422b82c51de3b72533e0",
            "f4442b29b8b3470381558a5399da06b5",
            "bc6c0a4f5464485986a9518cedee597e",
            "ecc0119203ad410e91ab25abaadbd14a",
            "7b2d1ac0af9c408d978f9fef2916e912",
            "e9edf44dcec846d9bcd073e943d386b9",
            "9fa6c4709ff440a3a5ab06aefe0ec0c5",
            "33b5a3a5c7a240e8bb2bb1b5732fb0d0",
            "1da78e6ee83e41689b71d3f10f46c173"
          ]
        },
        "id": "OwL0nr22blHg",
        "outputId": "2790a261-e389-493f-adea-27211dee60b6"
      },
      "execution_count": null,
      "outputs": [
        {
          "output_type": "display_data",
          "data": {
            "text/plain": [
              "interactive(children=(Dropdown(description='state', options=('Alabama', 'Alaska', 'Arizona', 'Arkansas', 'Cali…"
            ],
            "application/vnd.jupyter.widget-view+json": {
              "version_major": 2,
              "version_minor": 0,
              "model_id": "669a68f5bd834407a660d0d101e0fb87"
            }
          },
          "metadata": {}
        },
        {
          "output_type": "execute_result",
          "data": {
            "text/plain": [
              "''"
            ],
            "application/vnd.google.colaboratory.intrinsic+json": {
              "type": "string"
            }
          },
          "metadata": {},
          "execution_count": 136
        }
      ]
    },
    {
      "cell_type": "markdown",
      "source": [],
      "metadata": {
        "id": "eSOHi4JVavS-"
      }
    }
  ]
}